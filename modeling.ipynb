{
  "cells": [
    {
      "cell_type": "code",
      "execution_count": 2,
      "metadata": {
        "id": "jzH_LbEIGLWu"
      },
      "outputs": [],
      "source": [
        "# library\n",
        "import torch\n",
        "import numpy as np\n",
        "import matplotlib.pyplot as plt\n",
        "import pandas as pd\n",
        "from torchmetrics import R2Score, MeanSquaredError\n",
        "\n",
        "r2score = R2Score()\n",
        "msescore = MeanSquaredError()\n",
        "\n",
        "torch.manual_seed(2)\n",
        "np.random.seed(2)\n",
        "torch.set_printoptions(precision=8)"
      ]
    },
    {
      "cell_type": "code",
      "execution_count": 3,
      "metadata": {
        "id": "Y3eaKBL2GhJI"
      },
      "outputs": [],
      "source": [
        "# Model (system)\n",
        "class System(torch.nn.Module):\n",
        "    def __init__(self):\n",
        "        super(System, self).__init__()\n",
        "        self.input_ini    = torch.nn.Linear(1, 4)\n",
        "        self.input_signal = torch.nn.Linear(4, 4)\n",
        "        self.input_t      = torch.nn.Linear(1, 4)\n",
        "\n",
        "    def forward(self, x_0, u, t):\n",
        "        z_ini   = torch.selu(self.input_ini(x_0))\n",
        "        z_input = torch.selu(self.input_signal(u))\n",
        "        z_t     = torch.selu(self.input_t(t))\n",
        "        z       = z_ini * z_input * z_t\n",
        "        z       = torch.sum(z, dim=1).reshape(-1,1)\n",
        "        return z"
      ]
    },
    {
      "cell_type": "code",
      "execution_count": 4,
      "metadata": {
        "id": "BtNtb3epPIzJ"
      },
      "outputs": [],
      "source": [
        "# Model error\n",
        "def eval(model, testset):\n",
        "    with torch.no_grad():\n",
        "        pred_Y = model(testset.x0_data, testset.u_data, testset.t_data)\n",
        "\n",
        "    r2  = r2score(pred_Y, testset.y_data)\n",
        "    mse = msescore(pred_Y, testset.y_data)\n",
        "    return r2.item(), mse.item()"
      ]
    },
    {
      "cell_type": "code",
      "execution_count": 5,
      "metadata": {
        "id": "dTWtNEdVHCuw"
      },
      "outputs": [],
      "source": [
        "# Data\n",
        "class Data(torch.utils.data.Dataset):\n",
        "  def __init__(self, src_file, start, stop):\n",
        "    df = pd.read_csv(src_file)\n",
        "    X0 = np.array(df['X0'][start:stop]).reshape(-1,1)\n",
        "    U1 = np.array(df['U1'][start:stop])\n",
        "    U2 = np.array(df['U2'][start:stop])\n",
        "    U3 = np.array(df['U3'][start:stop])\n",
        "    U4 = np.array(df['U4'][start:stop])\n",
        "    U  = np.column_stack((U1, U2, U3, U4))\n",
        "    T  = np.array(df['T'][start:stop]).reshape(-1,1)\n",
        "    Y  = np.array(df['Y'][start:stop]).reshape(-1,1)\n",
        "\n",
        "    self.x0_data = torch.tensor(X0, dtype=torch.float32)\n",
        "    self.u_data  = torch.tensor(U,  dtype=torch.float32)\n",
        "    self.t_data  = torch.tensor(T,  dtype=torch.float32)\n",
        "    self.y_data  = torch.tensor(Y,  dtype=torch.float32)\n",
        "\n",
        "  def __len__(self):\n",
        "    return len(self.x0_data)\n",
        "\n",
        "  def __getitem__(self, idx):\n",
        "    if torch.is_tensor(idx):\n",
        "      idx = idx.tolist()\n",
        "    x0  = self.x0_data[idx]\n",
        "    u   = self.u_data[idx]\n",
        "    t   = self.t_data[idx]\n",
        "    y   = self.y_data[idx]\n",
        "    sample = {'x0':x0, 'u':u, 't':t, 'y':y}\n",
        "    return sample"
      ]
    },
    {
      "cell_type": "code",
      "execution_count": 6,
      "metadata": {},
      "outputs": [],
      "source": [
        "# Early stopping\n",
        "def early_stop(list, min_epochs, patience):\n",
        "    if(len(list) > min_epochs):\n",
        "        if(np.max(list[-patience:]) < 1.0001*np.max(list[0: -patience])):\n",
        "            return 1\n",
        "    return 0"
      ]
    },
    {
      "cell_type": "code",
      "execution_count": 7,
      "metadata": {},
      "outputs": [],
      "source": [
        "# Train function\n",
        "def train(net, train_ds, test_ds, lr=0.001, min_epochs=200, max_epochs=100000, patience=100):\n",
        "    loss_func  = torch.nn.MSELoss()\n",
        "    optimizer  = torch.optim.Adam(net.parameters(), lr=lr)\n",
        "\n",
        "    train_ldr = torch.utils.data.DataLoader(train_ds, batch_size=train_ds.y_data.shape[0], shuffle=True)\n",
        "\n",
        "    R2  = np.array([])\n",
        "    MSE = np.array([])\n",
        "    for epoch in range(0, max_epochs+1):\n",
        "        net.train()\n",
        "        loss  = 0\n",
        "        count = 0\n",
        "        for (_, batch) in enumerate(train_ldr):\n",
        "            X0 = batch['x0']\n",
        "            U  = batch['u']\n",
        "            T  = batch['t']\n",
        "            Y  = batch['y']\n",
        "\n",
        "            optimizer.zero_grad()\n",
        "            output = net(X0, U, T)             # compute the output of the Network\n",
        "            loss_val = loss_func(output, Y)    # loss function\n",
        "            loss += loss_val.item()            # accumulate\n",
        "            loss_val.backward()                # gradients\n",
        "            optimizer.step()                   # update paramters\n",
        "            count += 1\n",
        "        \n",
        "        net.eval()\n",
        "        R2  = np.append(R2, eval(net, test_ds)[0])\n",
        "        MSE = np.append(MSE, eval(net, test_ds)[1])\n",
        "\n",
        "        if(epoch%500==0):\n",
        "            print(\"epoch = %5d \\t loss = %12.4f \\t R2 = %12.4f \\t MSE = %12.4f\" % (epoch, loss/count, eval(net, test_ds)[0], eval(net, test_ds)[1]))\n",
        "        \n",
        "        if(early_stop(list = R2, min_epochs = min_epochs, patience = patience) == 1):\n",
        "            break\n",
        "    \n",
        "    return R2, MSE"
      ]
    },
    {
      "cell_type": "code",
      "execution_count": 8,
      "metadata": {
        "colab": {
          "base_uri": "https://localhost:8080/"
        },
        "id": "gebr4CnRLFBd",
        "outputId": "d74e7cd7-8dab-49a9-babc-e77577dd73b7"
      },
      "outputs": [
        {
          "name": "stdout",
          "output_type": "stream",
          "text": [
            "epoch =     0 \t loss =   22048.4746 \t R2 =   -4122.8574 \t MSE =   25656.3125\n",
            "epoch =   500 \t loss =     111.7399 \t R2 =     -22.2664 \t MSE =     144.7503\n",
            "epoch =  1000 \t loss =      66.5505 \t R2 =     -13.9911 \t MSE =      93.2662\n",
            "epoch =  1500 \t loss =      46.1349 \t R2 =      -8.4572 \t MSE =      58.8373\n",
            "epoch =  2000 \t loss =      32.4966 \t R2 =      -4.8785 \t MSE =      36.5730\n",
            "epoch =  2500 \t loss =      23.3050 \t R2 =      -2.7568 \t MSE =      23.3725\n",
            "epoch =  3000 \t loss =      17.0519 \t R2 =      -1.5283 \t MSE =      15.7296\n",
            "epoch =  3500 \t loss =      12.4642 \t R2 =      -0.7398 \t MSE =      10.8239\n",
            "epoch =  4000 \t loss =       8.8966 \t R2 =      -0.1805 \t MSE =       7.3445\n",
            "epoch =  4500 \t loss =       6.1503 \t R2 =       0.2144 \t MSE =       4.8876\n",
            "epoch =  5000 \t loss =       4.0910 \t R2 =       0.4816 \t MSE =       3.2255\n",
            "epoch =  5500 \t loss =       2.4067 \t R2 =       0.6425 \t MSE =       2.2240\n",
            "epoch =  6000 \t loss =       1.3343 \t R2 =       0.7179 \t MSE =       1.7550\n",
            "epoch =  6500 \t loss =       0.8189 \t R2 =       0.7850 \t MSE =       1.3374\n",
            "epoch =  7000 \t loss =       0.5592 \t R2 =       0.8320 \t MSE =       1.0453\n",
            "epoch =  7500 \t loss =       0.4117 \t R2 =       0.8686 \t MSE =       0.8177\n",
            "epoch =  8000 \t loss =       0.3201 \t R2 =       0.8963 \t MSE =       0.6451\n",
            "epoch =  8500 \t loss =       0.2605 \t R2 =       0.9168 \t MSE =       0.5178\n",
            "epoch =  9000 \t loss =       0.2176 \t R2 =       0.9321 \t MSE =       0.4227\n",
            "epoch =  9500 \t loss =       0.1832 \t R2 =       0.9446 \t MSE =       0.3446\n",
            "epoch = 10000 \t loss =       0.1554 \t R2 =       0.9553 \t MSE =       0.2783\n",
            "epoch = 10500 \t loss =       0.1328 \t R2 =       0.9640 \t MSE =       0.2240\n",
            "epoch = 11000 \t loss =       0.1095 \t R2 =       0.9720 \t MSE =       0.1742\n",
            "epoch = 11500 \t loss =       0.0946 \t R2 =       0.9783 \t MSE =       0.1353\n",
            "epoch = 12000 \t loss =       0.0823 \t R2 =       0.9832 \t MSE =       0.1048\n",
            "epoch = 12500 \t loss =       0.0725 \t R2 =       0.9859 \t MSE =       0.0877\n",
            "epoch = 13000 \t loss =       0.0647 \t R2 =       0.9878 \t MSE =       0.0757\n",
            "epoch = 13500 \t loss =       0.0581 \t R2 =       0.9892 \t MSE =       0.0671\n",
            "epoch = 14000 \t loss =       0.0526 \t R2 =       0.9902 \t MSE =       0.0612\n",
            "epoch = 14500 \t loss =       0.0481 \t R2 =       0.9908 \t MSE =       0.0573\n",
            "epoch = 15000 \t loss =       0.0843 \t R2 =       0.9863 \t MSE =       0.0855\n"
          ]
        }
      ],
      "source": [
        "# Create Dataset and DataLoader objects\n",
        "src_file = 'training_data.csv'\n",
        "train_ds = Data(src_file, 0, 4096)\n",
        "test_ds  = Data(src_file, 4096, 7980)\n",
        "\n",
        "# Create network\n",
        "device = torch.device(\"cpu\")\n",
        "net = System().to(device)\n",
        "\n",
        "# train model\n",
        "lr         = 0.001\n",
        "min_epochs = 500\n",
        "max_epochs = 100000\n",
        "patience   = 300\n",
        "R2, MSE = train(net, train_ds, test_ds, lr, min_epochs, max_epochs, patience)"
      ]
    },
    {
      "cell_type": "code",
      "execution_count": 9,
      "metadata": {},
      "outputs": [],
      "source": [
        "torch.save(net, 'system.pt')"
      ]
    }
  ],
  "metadata": {
    "colab": {
      "collapsed_sections": [],
      "name": "3. T_z .ipynb",
      "provenance": []
    },
    "kernelspec": {
      "display_name": "Python 3.10.5 64-bit",
      "language": "python",
      "name": "python3"
    },
    "language_info": {
      "codemirror_mode": {
        "name": "ipython",
        "version": 3
      },
      "file_extension": ".py",
      "mimetype": "text/x-python",
      "name": "python",
      "nbconvert_exporter": "python",
      "pygments_lexer": "ipython3",
      "version": "3.9.8"
    },
    "vscode": {
      "interpreter": {
        "hash": "912d6611990680b3d240e982c9d50f3da4c776707cfd42695cf7d82c88d80956"
      }
    }
  },
  "nbformat": 4,
  "nbformat_minor": 0
}
