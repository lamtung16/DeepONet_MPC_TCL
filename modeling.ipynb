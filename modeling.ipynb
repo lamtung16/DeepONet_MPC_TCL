{
  "cells": [
    {
      "cell_type": "code",
      "execution_count": 1,
      "metadata": {
        "id": "jzH_LbEIGLWu"
      },
      "outputs": [],
      "source": [
        "# library\n",
        "import torch\n",
        "import numpy as np\n",
        "import matplotlib.pyplot as plt\n",
        "import pandas as pd\n",
        "from torchmetrics import R2Score, MeanSquaredError\n",
        "\n",
        "r2score = R2Score()\n",
        "msescore = MeanSquaredError()\n",
        "\n",
        "torch.manual_seed(2)\n",
        "np.random.seed(2)\n",
        "torch.set_printoptions(precision=8)"
      ]
    },
    {
      "cell_type": "code",
      "execution_count": 2,
      "metadata": {
        "id": "Y3eaKBL2GhJI"
      },
      "outputs": [],
      "source": [
        "# Model (system)\n",
        "class System(torch.nn.Module):\n",
        "    def __init__(self):\n",
        "        super(System, self).__init__()\n",
        "        self.input_ini    = torch.nn.Linear(1, 4)\n",
        "        self.input_signal = torch.nn.Linear(1, 4)\n",
        "        self.input_t      = torch.nn.Linear(1, 4)\n",
        "\n",
        "    def forward(self, x_0, u, t):\n",
        "        z_ini   = torch.selu(self.input_ini(x_0))\n",
        "        z_input = torch.selu(self.input_signal(u))\n",
        "        z_t     = torch.selu(self.input_t(t))\n",
        "        z       = z_ini * z_input * z_t\n",
        "        z       = torch.sum(z, dim=1).reshape(-1,1)\n",
        "        return z"
      ]
    },
    {
      "cell_type": "code",
      "execution_count": 3,
      "metadata": {
        "id": "BtNtb3epPIzJ"
      },
      "outputs": [],
      "source": [
        "# Model error\n",
        "def eval(model, testset):\n",
        "    with torch.no_grad():\n",
        "        pred_Y = model(testset.x0_data, testset.u_data, testset.t_data)\n",
        "\n",
        "    r2  = r2score(pred_Y, testset.y_data)\n",
        "    mse = msescore(pred_Y, testset.y_data)\n",
        "    return r2.item(), mse.item()"
      ]
    },
    {
      "cell_type": "code",
      "execution_count": 4,
      "metadata": {
        "id": "dTWtNEdVHCuw"
      },
      "outputs": [],
      "source": [
        "# Data\n",
        "class Data(torch.utils.data.Dataset):\n",
        "  def __init__(self, src_file, start, stop):\n",
        "    df = pd.read_csv(src_file)\n",
        "    X0 = np.array(df['X0'][start:stop]).reshape(-1,1)\n",
        "    U  = np.array(df['U'][start:stop]).reshape(-1,1)\n",
        "    T  = np.array(df['T'][start:stop]).reshape(-1,1)\n",
        "    Y  = np.array(df['Y'][start:stop]).reshape(-1,1)\n",
        "\n",
        "    self.x0_data = torch.tensor(X0, dtype=torch.float32)\n",
        "    self.u_data  = torch.tensor(U,  dtype=torch.float32)\n",
        "    self.t_data  = torch.tensor(T,  dtype=torch.float32)\n",
        "    self.y_data  = torch.tensor(Y,  dtype=torch.float32)\n",
        "\n",
        "  def __len__(self):\n",
        "    return len(self.x0_data)\n",
        "\n",
        "  def __getitem__(self, idx):\n",
        "    if torch.is_tensor(idx):\n",
        "      idx = idx.tolist()\n",
        "    x0  = self.x0_data[idx]\n",
        "    u   = self.u_data[idx]\n",
        "    t   = self.t_data[idx]\n",
        "    y   = self.y_data[idx]\n",
        "    sample = {'x0':x0, 'u':u, 't':t, 'y':y}\n",
        "    return sample"
      ]
    },
    {
      "cell_type": "code",
      "execution_count": 5,
      "metadata": {},
      "outputs": [],
      "source": [
        "# Early stopping\n",
        "def early_stop(list, min_epochs, patience):\n",
        "    if(len(list) > min_epochs):\n",
        "        if(np.max(list[-patience:]) < 1.0001*np.max(list[0: -patience])):\n",
        "            return 1\n",
        "    return 0"
      ]
    },
    {
      "cell_type": "code",
      "execution_count": 6,
      "metadata": {},
      "outputs": [],
      "source": [
        "# Train function\n",
        "def train(net, train_ds, test_ds, lr=0.001, min_epochs=200, max_epochs=100000, patience=100):\n",
        "    loss_func  = torch.nn.MSELoss()\n",
        "    optimizer  = torch.optim.Adam(net.parameters(), lr=lr)\n",
        "\n",
        "    train_ldr = torch.utils.data.DataLoader(train_ds, batch_size=train_ds.y_data.shape[0], shuffle=True)\n",
        "\n",
        "    R2  = np.array([])\n",
        "    MSE = np.array([])\n",
        "    for epoch in range(0, max_epochs+1):\n",
        "        net.train()\n",
        "        loss  = 0\n",
        "        count = 0\n",
        "        for (_, batch) in enumerate(train_ldr):\n",
        "            X0 = batch['x0']\n",
        "            U  = batch['u']\n",
        "            T  = batch['t']\n",
        "            Y  = batch['y']\n",
        "\n",
        "            optimizer.zero_grad()\n",
        "            output = net(X0, U, T)             # compute the output of the Network\n",
        "            loss_val = loss_func(output, Y)    # loss function\n",
        "            loss += loss_val.item()            # accumulate\n",
        "            loss_val.backward()                # gradients\n",
        "            optimizer.step()                   # update paramters\n",
        "            count += 1\n",
        "        \n",
        "        net.eval()\n",
        "        R2  = np.append(R2, eval(net, test_ds)[0])\n",
        "        MSE = np.append(MSE, eval(net, test_ds)[1])\n",
        "\n",
        "        if(epoch%500==0):\n",
        "            print(\"epoch = %5d \\t loss = %12.4f \\t R2 = %12.4f \\t MSE = %12.4f\" % (epoch, loss/count, eval(net, test_ds)[0], eval(net, test_ds)[1]))\n",
        "        \n",
        "        if(early_stop(list = R2, min_epochs = min_epochs, patience = patience) == 1):\n",
        "            break\n",
        "    \n",
        "    return R2, MSE"
      ]
    },
    {
      "cell_type": "code",
      "execution_count": 7,
      "metadata": {
        "colab": {
          "base_uri": "https://localhost:8080/"
        },
        "id": "gebr4CnRLFBd",
        "outputId": "d74e7cd7-8dab-49a9-babc-e77577dd73b7"
      },
      "outputs": [
        {
          "name": "stdout",
          "output_type": "stream",
          "text": [
            "epoch =     0 \t loss =   17823.0586 \t R2 =   -3282.4199 \t MSE =   20427.5859\n",
            "epoch =   500 \t loss =      59.3919 \t R2 =      -8.9896 \t MSE =      62.1500\n",
            "epoch =  1000 \t loss =       2.9029 \t R2 =       0.7538 \t MSE =       1.5315\n",
            "epoch =  1500 \t loss =       1.3490 \t R2 =       0.9393 \t MSE =       0.3779\n",
            "epoch =  2000 \t loss =       1.1535 \t R2 =       0.9421 \t MSE =       0.3601\n",
            "epoch =  2500 \t loss =       0.9885 \t R2 =       0.9489 \t MSE =       0.3182\n",
            "epoch =  3000 \t loss =       0.8269 \t R2 =       0.9565 \t MSE =       0.2708\n",
            "epoch =  3500 \t loss =       0.6771 \t R2 =       0.9638 \t MSE =       0.2249\n",
            "epoch =  4000 \t loss =       0.5458 \t R2 =       0.9706 \t MSE =       0.1830\n",
            "epoch =  4500 \t loss =       0.4372 \t R2 =       0.9763 \t MSE =       0.1472\n",
            "epoch =  5000 \t loss =       0.3528 \t R2 =       0.9809 \t MSE =       0.1191\n",
            "epoch =  5500 \t loss =       0.2917 \t R2 =       0.9840 \t MSE =       0.0993\n",
            "epoch =  6000 \t loss =       0.2502 \t R2 =       0.9860 \t MSE =       0.0869\n",
            "epoch =  6500 \t loss =       0.2230 \t R2 =       0.9871 \t MSE =       0.0801\n",
            "epoch =  7000 \t loss =       0.2041 \t R2 =       0.9878 \t MSE =       0.0760\n",
            "epoch =  7500 \t loss =       0.1885 \t R2 =       0.9883 \t MSE =       0.0727\n",
            "epoch =  8000 \t loss =       0.1735 \t R2 =       0.9889 \t MSE =       0.0689\n",
            "epoch =  8500 \t loss =       0.1578 \t R2 =       0.9896 \t MSE =       0.0644\n",
            "epoch =  9000 \t loss =       0.1411 \t R2 =       0.9904 \t MSE =       0.0595\n",
            "epoch =  9500 \t loss =       0.1240 \t R2 =       0.9913 \t MSE =       0.0544\n",
            "epoch = 10000 \t loss =       0.1072 \t R2 =       0.9921 \t MSE =       0.0493\n",
            "epoch = 10500 \t loss =       0.0930 \t R2 =       0.9929 \t MSE =       0.0442\n",
            "epoch = 11000 \t loss =       0.0784 \t R2 =       0.9934 \t MSE =       0.0412\n",
            "epoch = 11500 \t loss =       0.0679 \t R2 =       0.9940 \t MSE =       0.0376\n",
            "epoch = 12000 \t loss =       0.0597 \t R2 =       0.9944 \t MSE =       0.0346\n",
            "epoch = 12500 \t loss =       0.0536 \t R2 =       0.9948 \t MSE =       0.0321\n"
          ]
        }
      ],
      "source": [
        "# Create Dataset and DataLoader objects\n",
        "src_file = 'training_data.csv'\n",
        "train_ds = Data(src_file, 0, 1024)\n",
        "test_ds  = Data(src_file, 1024, 2048)\n",
        "\n",
        "# Create network\n",
        "device = torch.device(\"cpu\")\n",
        "net = System().to(device)\n",
        "\n",
        "# train model\n",
        "lr         = 0.001\n",
        "min_epochs = 500\n",
        "max_epochs = 100000\n",
        "patience   = 300\n",
        "R2, MSE = train(net, train_ds, test_ds, lr, min_epochs, max_epochs, patience)"
      ]
    },
    {
      "cell_type": "code",
      "execution_count": 8,
      "metadata": {},
      "outputs": [],
      "source": [
        "torch.save(net, 'system.pt')"
      ]
    }
  ],
  "metadata": {
    "colab": {
      "collapsed_sections": [],
      "name": "3. T_z .ipynb",
      "provenance": []
    },
    "kernelspec": {
      "display_name": "Python 3.10.5 64-bit",
      "language": "python",
      "name": "python3"
    },
    "language_info": {
      "codemirror_mode": {
        "name": "ipython",
        "version": 3
      },
      "file_extension": ".py",
      "mimetype": "text/x-python",
      "name": "python",
      "nbconvert_exporter": "python",
      "pygments_lexer": "ipython3",
      "version": "3.9.8"
    },
    "vscode": {
      "interpreter": {
        "hash": "912d6611990680b3d240e982c9d50f3da4c776707cfd42695cf7d82c88d80956"
      }
    }
  },
  "nbformat": 4,
  "nbformat_minor": 0
}
