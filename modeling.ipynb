{
  "cells": [
    {
      "cell_type": "code",
      "execution_count": 1,
      "metadata": {
        "id": "jzH_LbEIGLWu"
      },
      "outputs": [
        {
          "name": "stderr",
          "output_type": "stream",
          "text": [
            "c:\\Users\\tln229\\AppData\\Local\\Programs\\Python\\Python39\\lib\\site-packages\\tqdm\\auto.py:21: TqdmWarning: IProgress not found. Please update jupyter and ipywidgets. See https://ipywidgets.readthedocs.io/en/stable/user_install.html\n",
            "  from .autonotebook import tqdm as notebook_tqdm\n"
          ]
        }
      ],
      "source": [
        "# libraries\n",
        "import torch\n",
        "import numpy as np\n",
        "import matplotlib.pyplot as plt\n",
        "import pandas as pd\n",
        "from torchmetrics import R2Score, MeanSquaredError\n",
        "\n",
        "r2score = R2Score()\n",
        "msescore = MeanSquaredError()\n",
        "\n",
        "torch.manual_seed(2)\n",
        "np.random.seed(2)\n",
        "torch.set_printoptions(precision=8)"
      ]
    },
    {
      "cell_type": "code",
      "execution_count": 2,
      "metadata": {
        "id": "Y3eaKBL2GhJI"
      },
      "outputs": [],
      "source": [
        "# Model (system)\n",
        "class System(torch.nn.Module):\n",
        "    def __init__(self):\n",
        "        super(System, self).__init__()\n",
        "        self.input_ini    = torch.nn.Linear(1, 12)\n",
        "        self.input_signal = torch.nn.Linear(10,12)\n",
        "        self.input_t      = torch.nn.Linear(1, 12)\n",
        "\n",
        "    def forward(self, x_0, u, t):\n",
        "        z_ini   = torch.selu(self.input_ini(x_0))\n",
        "        z_input = torch.selu(self.input_signal(u))\n",
        "        z_t     = torch.selu(self.input_t(t))\n",
        "        z       = z_ini * z_input * z_t\n",
        "        z       = torch.sum(z, dim=1).reshape(-1,1)\n",
        "        return z"
      ]
    },
    {
      "cell_type": "code",
      "execution_count": 3,
      "metadata": {
        "id": "BtNtb3epPIzJ"
      },
      "outputs": [],
      "source": [
        "# Model error\n",
        "def eval(model, testset):\n",
        "    with torch.no_grad():\n",
        "        pred_Y = model(testset.x0_data, testset.u_data, testset.t_data)\n",
        "\n",
        "    r2  = r2score(pred_Y, testset.y_data)\n",
        "    mse = msescore(pred_Y, testset.y_data)\n",
        "    return r2.item(), mse.item()"
      ]
    },
    {
      "cell_type": "code",
      "execution_count": 4,
      "metadata": {
        "id": "dTWtNEdVHCuw"
      },
      "outputs": [],
      "source": [
        "# Data\n",
        "class Data(torch.utils.data.Dataset):\n",
        "  def __init__(self, src_file, start, stop):\n",
        "    df = pd.read_csv(src_file)\n",
        "    X0 = np.array(df['X0'][start:stop]).reshape(-1,1)\n",
        "    U1 = np.array(df['U01'][start:stop])\n",
        "    U2 = np.array(df['U02'][start:stop])\n",
        "    U3 = np.array(df['U03'][start:stop])\n",
        "    U4 = np.array(df['U04'][start:stop])\n",
        "    U5 = np.array(df['U05'][start:stop])\n",
        "    U6 = np.array(df['U06'][start:stop])\n",
        "    U7 = np.array(df['U07'][start:stop])\n",
        "    U8 = np.array(df['U08'][start:stop])\n",
        "    U9 = np.array(df['U09'][start:stop])\n",
        "    U10= np.array(df['U10'][start:stop])\n",
        "    U  = np.column_stack((U1, U2, U3, U4, U5, U6, U7, U8, U9, U10))\n",
        "    T  = np.array(df['T'][start:stop]).reshape(-1,1)\n",
        "    Y  = np.array(df['Y'][start:stop]).reshape(-1,1)\n",
        "\n",
        "    self.x0_data = torch.tensor(X0, dtype=torch.float32)\n",
        "    self.u_data  = torch.tensor(U,  dtype=torch.float32)\n",
        "    self.t_data  = torch.tensor(T,  dtype=torch.float32)\n",
        "    self.y_data  = torch.tensor(Y,  dtype=torch.float32)\n",
        "\n",
        "  def __len__(self):\n",
        "    return len(self.x0_data)\n",
        "\n",
        "  def __getitem__(self, idx):\n",
        "    if torch.is_tensor(idx):\n",
        "      idx = idx.tolist()\n",
        "    x0  = self.x0_data[idx]\n",
        "    u   = self.u_data[idx]\n",
        "    t   = self.t_data[idx]\n",
        "    y   = self.y_data[idx]\n",
        "    sample = {'x0':x0, 'u':u, 't':t, 'y':y}\n",
        "    return sample"
      ]
    },
    {
      "cell_type": "code",
      "execution_count": 5,
      "metadata": {},
      "outputs": [],
      "source": [
        "# Early stopping\n",
        "def early_stop(list, min_epochs, patience):\n",
        "    if(len(list) > min_epochs):\n",
        "        if(np.max(list[-patience:]) < 1.0001*np.max(list[0: -patience])):\n",
        "            return 1\n",
        "    return 0"
      ]
    },
    {
      "cell_type": "code",
      "execution_count": 6,
      "metadata": {},
      "outputs": [],
      "source": [
        "# Train function\n",
        "def train(net, train_ds, test_ds, lr=0.001, min_epochs=200, max_epochs=100000, patience=100):\n",
        "    loss_func  = torch.nn.MSELoss()\n",
        "    optimizer  = torch.optim.Adam(net.parameters(), lr=lr)\n",
        "\n",
        "    train_ldr = torch.utils.data.DataLoader(train_ds, batch_size=train_ds.y_data.shape[0], shuffle=True)\n",
        "\n",
        "    R2  = np.array([])\n",
        "    MSE = np.array([])\n",
        "    for epoch in range(0, max_epochs+1):\n",
        "        net.train()\n",
        "        loss  = 0\n",
        "        count = 0\n",
        "        for (_, batch) in enumerate(train_ldr):\n",
        "            X0 = batch['x0']\n",
        "            U  = batch['u']\n",
        "            T  = batch['t']\n",
        "            Y  = batch['y']\n",
        "\n",
        "            optimizer.zero_grad()\n",
        "            output = net(X0, U, T)             # compute the output of the Network\n",
        "            loss_val = loss_func(output, Y)    # loss function\n",
        "            loss += loss_val.item()            # accumulate\n",
        "            loss_val.backward()                # gradients\n",
        "            optimizer.step()                   # update paramters\n",
        "            count += 1\n",
        "        \n",
        "        net.eval()\n",
        "        R2  = np.append(R2, eval(net, test_ds)[0])\n",
        "        MSE = np.append(MSE, eval(net, test_ds)[1])\n",
        "\n",
        "        if(epoch%500==0):\n",
        "            print(\"epoch = %5d \\t loss = %12.4f \\t R2 = %12.4f \\t MSE = %12.4f\" % (epoch, loss/count, eval(net, test_ds)[0], eval(net, test_ds)[1]))\n",
        "        \n",
        "        if(early_stop(list = R2, min_epochs = min_epochs, patience = patience) == 1):\n",
        "            break\n",
        "    \n",
        "    return R2, MSE"
      ]
    },
    {
      "cell_type": "code",
      "execution_count": 7,
      "metadata": {
        "colab": {
          "base_uri": "https://localhost:8080/"
        },
        "id": "gebr4CnRLFBd",
        "outputId": "d74e7cd7-8dab-49a9-babc-e77577dd73b7"
      },
      "outputs": [
        {
          "name": "stdout",
          "output_type": "stream",
          "text": [
            "epoch =     0 \t loss = 9527698.0000 \t R2 = -117252.0078 \t MSE = 5185350.0000\n",
            "epoch =   500 \t loss =    9429.8926 \t R2 =    -115.6842 \t MSE =    5160.1968\n",
            "epoch =  1000 \t loss =    2156.9792 \t R2 =     -26.9958 \t MSE =    1238.0768\n",
            "epoch =  1500 \t loss =     721.8849 \t R2 =      -8.1729 \t MSE =     405.6609\n",
            "epoch =  2000 \t loss =     537.0233 \t R2 =      -6.6985 \t MSE =     340.4543\n",
            "epoch =  2500 \t loss =     453.5688 \t R2 =      -5.6616 \t MSE =     294.5984\n",
            "epoch =  3000 \t loss =     406.9037 \t R2 =      -5.0481 \t MSE =     267.4684\n",
            "epoch =  3500 \t loss =     367.3782 \t R2 =      -4.4472 \t MSE =     240.8931\n",
            "epoch =  4000 \t loss =     334.7917 \t R2 =      -3.8861 \t MSE =     216.0827\n",
            "epoch =  4500 \t loss =     303.7854 \t R2 =      -3.3740 \t MSE =     193.4328\n",
            "epoch =  5000 \t loss =     273.9212 \t R2 =      -2.8941 \t MSE =     172.2119\n",
            "epoch =  5500 \t loss =     245.2221 \t R2 =      -2.4395 \t MSE =     152.1066\n",
            "epoch =  6000 \t loss =     216.1785 \t R2 =      -2.0157 \t MSE =     133.3656\n",
            "epoch =  6500 \t loss =     190.5490 \t R2 =      -1.6727 \t MSE =     118.1986\n",
            "epoch =  7000 \t loss =     161.7672 \t R2 =      -1.2423 \t MSE =      99.1606\n",
            "epoch =  7500 \t loss =     146.6107 \t R2 =      -1.0277 \t MSE =      89.6728\n",
            "epoch =  8000 \t loss =     120.1367 \t R2 =      -0.6599 \t MSE =      73.4075\n",
            "epoch =  8500 \t loss =     100.6444 \t R2 =      -0.4510 \t MSE =      64.1670\n",
            "epoch =  9000 \t loss =      77.6921 \t R2 =      -0.1078 \t MSE =      48.9919\n",
            "epoch =  9500 \t loss =      63.7018 \t R2 =       0.0705 \t MSE =      41.1038\n",
            "epoch = 10000 \t loss =      55.7780 \t R2 =       0.1566 \t MSE =      37.2992\n",
            "epoch = 10500 \t loss =      43.8011 \t R2 =       0.3318 \t MSE =      29.5484\n",
            "epoch = 11000 \t loss =      65.3466 \t R2 =       0.1559 \t MSE =      37.3279\n",
            "epoch = 11500 \t loss =      30.4496 \t R2 =       0.5041 \t MSE =      21.9299\n",
            "epoch = 12000 \t loss =      33.0184 \t R2 =       0.4338 \t MSE =      25.0390\n",
            "epoch = 12500 \t loss =      29.2160 \t R2 =       0.5081 \t MSE =      21.7534\n",
            "epoch = 13000 \t loss =      17.8596 \t R2 =       0.6880 \t MSE =      13.7957\n",
            "epoch = 13500 \t loss =      18.6035 \t R2 =       0.6992 \t MSE =      13.3015\n",
            "epoch = 14000 \t loss =      18.9483 \t R2 =       0.6766 \t MSE =      14.3035\n",
            "epoch = 14500 \t loss =      11.0527 \t R2 =       0.8027 \t MSE =       8.7265\n",
            "epoch = 15000 \t loss =       9.6089 \t R2 =       0.8267 \t MSE =       7.6657\n",
            "epoch = 15500 \t loss =       8.9170 \t R2 =       0.8361 \t MSE =       7.2503\n",
            "epoch = 16000 \t loss =       7.4077 \t R2 =       0.8642 \t MSE =       6.0048\n",
            "epoch = 16500 \t loss =       7.3807 \t R2 =       0.8749 \t MSE =       5.5304\n",
            "epoch = 17000 \t loss =       5.9262 \t R2 =       0.8924 \t MSE =       4.7565\n",
            "epoch = 17500 \t loss =       6.1223 \t R2 =       0.8829 \t MSE =       5.1800\n",
            "epoch = 18000 \t loss =       4.6190 \t R2 =       0.9137 \t MSE =       3.8174\n",
            "epoch = 18500 \t loss =       4.1502 \t R2 =       0.9223 \t MSE =       3.4354\n",
            "epoch = 19000 \t loss =       9.0201 \t R2 =       0.8779 \t MSE =       5.3998\n",
            "epoch = 19500 \t loss =       3.4889 \t R2 =       0.9359 \t MSE =       2.8336\n",
            "epoch = 20000 \t loss =       3.3154 \t R2 =       0.9387 \t MSE =       2.7111\n",
            "epoch = 20500 \t loss =      14.8062 \t R2 =       0.7654 \t MSE =      10.3729\n",
            "epoch = 21000 \t loss =       2.5024 \t R2 =       0.9529 \t MSE =       2.0817\n",
            "epoch = 21500 \t loss =       2.3732 \t R2 =       0.9558 \t MSE =       1.9550\n",
            "epoch = 22000 \t loss =       2.2271 \t R2 =       0.9584 \t MSE =       1.8380\n",
            "epoch = 22500 \t loss =       2.7154 \t R2 =       0.9619 \t MSE =       1.6871\n",
            "epoch = 23000 \t loss =       1.7243 \t R2 =       0.9673 \t MSE =       1.4439\n",
            "epoch = 23500 \t loss =       2.2168 \t R2 =       0.9677 \t MSE =       1.4303\n",
            "epoch = 24000 \t loss =       1.4373 \t R2 =       0.9725 \t MSE =       1.2157\n",
            "epoch = 24500 \t loss =       1.4488 \t R2 =       0.9724 \t MSE =       1.2189\n",
            "epoch = 25000 \t loss =       1.2112 \t R2 =       0.9767 \t MSE =       1.0305\n",
            "epoch = 25500 \t loss =       1.9873 \t R2 =       0.9610 \t MSE =       1.7245\n",
            "epoch = 26000 \t loss =       3.6975 \t R2 =       0.9530 \t MSE =       2.0807\n",
            "epoch = 26500 \t loss =       1.1318 \t R2 =       0.9803 \t MSE =       0.8708\n",
            "epoch = 27000 \t loss =       0.9133 \t R2 =       0.9819 \t MSE =       0.8013\n",
            "epoch = 27500 \t loss =       2.2367 \t R2 =       0.9724 \t MSE =       1.2220\n",
            "epoch = 28000 \t loss =       0.7787 \t R2 =       0.9837 \t MSE =       0.7189\n",
            "epoch = 28500 \t loss =       0.7088 \t R2 =       0.9858 \t MSE =       0.6265\n",
            "epoch = 29000 \t loss =       0.7143 \t R2 =       0.9860 \t MSE =       0.6184\n",
            "epoch = 29500 \t loss =       0.8984 \t R2 =       0.9859 \t MSE =       0.6251\n",
            "epoch = 30000 \t loss =       0.7911 \t R2 =       0.9852 \t MSE =       0.6564\n",
            "epoch = 30500 \t loss =       0.5558 \t R2 =       0.9892 \t MSE =       0.4795\n",
            "epoch = 31000 \t loss =       0.5099 \t R2 =       0.9900 \t MSE =       0.4408\n",
            "epoch = 31500 \t loss =       0.5052 \t R2 =       0.9902 \t MSE =       0.4342\n",
            "epoch = 32000 \t loss =       0.8504 \t R2 =       0.9849 \t MSE =       0.6698\n",
            "epoch = 32500 \t loss =       0.4672 \t R2 =       0.9896 \t MSE =       0.4611\n",
            "epoch = 33000 \t loss =       0.4109 \t R2 =       0.9920 \t MSE =       0.3541\n",
            "epoch = 33500 \t loss =       0.3831 \t R2 =       0.9924 \t MSE =       0.3370\n",
            "epoch = 34000 \t loss =       0.3605 \t R2 =       0.9930 \t MSE =       0.3105\n",
            "epoch = 34500 \t loss =       0.4101 \t R2 =       0.9921 \t MSE =       0.3513\n",
            "epoch = 35000 \t loss =       0.3200 \t R2 =       0.9938 \t MSE =       0.2736\n",
            "epoch = 35500 \t loss =       0.3109 \t R2 =       0.9939 \t MSE =       0.2681\n",
            "epoch = 36000 \t loss =       0.3030 \t R2 =       0.9942 \t MSE =       0.2560\n",
            "epoch = 36500 \t loss =       0.2838 \t R2 =       0.9946 \t MSE =       0.2409\n",
            "epoch = 37000 \t loss =       0.2651 \t R2 =       0.9949 \t MSE =       0.2243\n",
            "epoch = 37500 \t loss =       0.2502 \t R2 =       0.9953 \t MSE =       0.2100\n",
            "epoch = 38000 \t loss =       0.2383 \t R2 =       0.9955 \t MSE =       0.1981\n"
          ]
        }
      ],
      "source": [
        "# Create Dataset and DataLoader objects\n",
        "src_file = 'training_data.csv'\n",
        "train_ds = Data(src_file, 0, 15000)\n",
        "test_ds  = Data(src_file, 15000, 20000)\n",
        "\n",
        "# Create network\n",
        "device = torch.device(\"cpu\")\n",
        "net = System().to(device)\n",
        "\n",
        "# train model\n",
        "lr         = 0.001\n",
        "min_epochs = 500\n",
        "max_epochs = 100000\n",
        "patience   = 300\n",
        "R2, MSE = train(net, train_ds, test_ds, lr, min_epochs, max_epochs, patience)"
      ]
    },
    {
      "cell_type": "code",
      "execution_count": 8,
      "metadata": {},
      "outputs": [],
      "source": [
        "torch.save(net, 'system.pt')"
      ]
    }
  ],
  "metadata": {
    "colab": {
      "collapsed_sections": [],
      "name": "3. T_z .ipynb",
      "provenance": []
    },
    "kernelspec": {
      "display_name": "Python 3.10.5 64-bit",
      "language": "python",
      "name": "python3"
    },
    "language_info": {
      "codemirror_mode": {
        "name": "ipython",
        "version": 3
      },
      "file_extension": ".py",
      "mimetype": "text/x-python",
      "name": "python",
      "nbconvert_exporter": "python",
      "pygments_lexer": "ipython3",
      "version": "3.9.8"
    },
    "vscode": {
      "interpreter": {
        "hash": "912d6611990680b3d240e982c9d50f3da4c776707cfd42695cf7d82c88d80956"
      }
    }
  },
  "nbformat": 4,
  "nbformat_minor": 0
}
