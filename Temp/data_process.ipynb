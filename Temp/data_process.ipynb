{
 "cells": [
  {
   "cell_type": "code",
   "execution_count": 1,
   "metadata": {},
   "outputs": [],
   "source": [
    "import pandas as pd"
   ]
  },
  {
   "cell_type": "code",
   "execution_count": 2,
   "metadata": {},
   "outputs": [],
   "source": [
    "# raw data\n",
    "df = pd.read_csv('dat.csv')"
   ]
  },
  {
   "cell_type": "code",
   "execution_count": 3,
   "metadata": {},
   "outputs": [],
   "source": [
    "# training data\n",
    "data = {'X0' :  [],\n",
    "         'U01': [],\n",
    "         'U02': [],\n",
    "         'U03': [],\n",
    "         'U04': [],\n",
    "         'U05': [],\n",
    "         'U06': [],\n",
    "         'U07': [],\n",
    "         'U08': [],\n",
    "         'U09': [],\n",
    "         'U10': [],\n",
    "         'T' :  [],\n",
    "         'Y' :  []}\n",
    "\n",
    "data = pd.DataFrame(data)\n",
    "\n",
    "for i in range(2000):\n",
    "    for j in range(10):\n",
    "        row = {'X0' :  [df['x'][i]],\n",
    "                'U01':  [df['u'][i]],\n",
    "                'U02':  [df['u'][i+1]],\n",
    "                'U03':  [df['u'][i+2]],\n",
    "                'U04':  [df['u'][i+3]],\n",
    "                'U05':  [df['u'][i+4]],\n",
    "                'U06':  [df['u'][i+5]],\n",
    "                'U07':  [df['u'][i+6]],\n",
    "                'U08':  [df['u'][i+7]],\n",
    "                'U09':  [df['u'][i+8]],\n",
    "                'U10':  [df['u'][i+9]],\n",
    "                'T' :  [j+1],\n",
    "                'Y' :  [df['x'][i+j]]}\n",
    "\n",
    "        data = pd.concat([pd.DataFrame(data), pd.DataFrame(row)], ignore_index=True)"
   ]
  },
  {
   "cell_type": "code",
   "execution_count": 4,
   "metadata": {},
   "outputs": [],
   "source": [
    "data.to_csv('training_data.csv', index=False)"
   ]
  }
 ],
 "metadata": {
  "kernelspec": {
   "display_name": "Python 3",
   "language": "python",
   "name": "python3"
  },
  "language_info": {
   "codemirror_mode": {
    "name": "ipython",
    "version": 3
   },
   "file_extension": ".py",
   "mimetype": "text/x-python",
   "name": "python",
   "nbconvert_exporter": "python",
   "pygments_lexer": "ipython3",
   "version": "3.9.8"
  },
  "orig_nbformat": 4
 },
 "nbformat": 4,
 "nbformat_minor": 2
}
