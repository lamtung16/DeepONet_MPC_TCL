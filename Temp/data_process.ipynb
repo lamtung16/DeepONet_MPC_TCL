{
 "cells": [
  {
   "cell_type": "code",
   "execution_count": 1,
   "metadata": {},
   "outputs": [],
   "source": [
    "import pandas as pd"
   ]
  },
  {
   "cell_type": "code",
   "execution_count": 2,
   "metadata": {},
   "outputs": [],
   "source": [
    "# raw data\n",
    "df = pd.read_csv('dat.csv')"
   ]
  },
  {
   "cell_type": "code",
   "execution_count": 3,
   "metadata": {},
   "outputs": [],
   "source": [
    "# training data\n",
    "data = {'X0' :  [],\n",
    "         'U1':  [],\n",
    "         'U2':  [],\n",
    "         'U3':  [],\n",
    "         'U4':  [],\n",
    "         'T' :  [],\n",
    "         'Y' :  []}\n",
    "\n",
    "data = pd.DataFrame(data)\n",
    "\n",
    "for i in range(2000):\n",
    "    for j in range(4):\n",
    "        row = {'X0' :  [df['x'][i]],\n",
    "                'U1':  [df['u'][i]],\n",
    "                'U2':  [df['u'][i+1]],\n",
    "                'U3':  [df['u'][i+2]],\n",
    "                'U4':  [df['u'][i+3]],\n",
    "                'T' :  [j+1],\n",
    "                'Y' :  [df['x'][i+j]]}\n",
    "\n",
    "        data = pd.concat([pd.DataFrame(data), pd.DataFrame(row)], ignore_index=True)"
   ]
  },
  {
   "cell_type": "code",
   "execution_count": 4,
   "metadata": {},
   "outputs": [],
   "source": [
    "data.to_csv('training_data.csv', index=False)"
   ]
  }
 ],
 "metadata": {
  "kernelspec": {
   "display_name": "Python 3",
   "language": "python",
   "name": "python3"
  },
  "language_info": {
   "codemirror_mode": {
    "name": "ipython",
    "version": 3
   },
   "file_extension": ".py",
   "mimetype": "text/x-python",
   "name": "python",
   "nbconvert_exporter": "python",
   "pygments_lexer": "ipython3",
   "version": "3.9.8"
  },
  "orig_nbformat": 4
 },
 "nbformat": 4,
 "nbformat_minor": 2
}
